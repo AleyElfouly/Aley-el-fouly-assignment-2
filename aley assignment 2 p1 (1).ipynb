{
 "cells": [
  {
   "cell_type": "code",
   "execution_count": 1,
   "id": "01188e04",
   "metadata": {},
   "outputs": [],
   "source": [
    "import numpy as np\n",
    "import pandas as pd\n",
    "import os"
   ]
  },
  {
   "cell_type": "code",
   "execution_count": 2,
   "id": "c2c34457",
   "metadata": {},
   "outputs": [
    {
     "data": {
      "text/plain": [
       "'/Users/Edge/Desktop'"
      ]
     },
     "execution_count": 2,
     "metadata": {},
     "output_type": "execute_result"
    }
   ],
   "source": [
    "os.getcwd()"
   ]
  },
  {
   "cell_type": "code",
   "execution_count": null,
   "id": "18050d5b",
   "metadata": {},
   "outputs": [],
   "source": []
  },
  {
   "cell_type": "code",
   "execution_count": 3,
   "id": "8c503afd",
   "metadata": {},
   "outputs": [],
   "source": [
    "df=pd.read_csv(\"results.csv\")"
   ]
  },
  {
   "cell_type": "code",
   "execution_count": 4,
   "id": "f1b2ed6c",
   "metadata": {},
   "outputs": [],
   "source": [
    "x=df['home_score']-df['away_score']\n",
    "conditions=[(x>0),(x<0),(x==0)]\n",
    "values=['win','lose','draw']"
   ]
  },
  {
   "cell_type": "code",
   "execution_count": 5,
   "id": "a932e7c0",
   "metadata": {},
   "outputs": [],
   "source": [
    "df['result'] = np.select(conditions, values)"
   ]
  },
  {
   "cell_type": "code",
   "execution_count": 6,
   "id": "ba3c5ec8",
   "metadata": {},
   "outputs": [
    {
     "data": {
      "text/plain": [
       "win     21009\n",
       "lose    12224\n",
       "draw     9955\n",
       "Name: result, dtype: int64"
      ]
     },
     "execution_count": 6,
     "metadata": {},
     "output_type": "execute_result"
    }
   ],
   "source": [
    "df['result'].value_counts()"
   ]
  },
  {
   "cell_type": "code",
   "execution_count": 7,
   "id": "59ddfa96",
   "metadata": {},
   "outputs": [],
   "source": [
    "df_noneutral=df[df['neutral']==False]"
   ]
  },
  {
   "cell_type": "code",
   "execution_count": 8,
   "id": "b3f6570b",
   "metadata": {},
   "outputs": [],
   "source": [
    "df_noneutralspain=df_noneutral[df_noneutral['country']=='Spain']"
   ]
  },
  {
   "cell_type": "code",
   "execution_count": 9,
   "id": "0d3f7d0a",
   "metadata": {},
   "outputs": [
    {
     "data": {
      "text/html": [
       "<div>\n",
       "<style scoped>\n",
       "    .dataframe tbody tr th:only-of-type {\n",
       "        vertical-align: middle;\n",
       "    }\n",
       "\n",
       "    .dataframe tbody tr th {\n",
       "        vertical-align: top;\n",
       "    }\n",
       "\n",
       "    .dataframe thead th {\n",
       "        text-align: right;\n",
       "    }\n",
       "</style>\n",
       "<table border=\"1\" class=\"dataframe\">\n",
       "  <thead>\n",
       "    <tr style=\"text-align: right;\">\n",
       "      <th></th>\n",
       "      <th>date</th>\n",
       "      <th>home_team</th>\n",
       "      <th>away_team</th>\n",
       "      <th>home_score</th>\n",
       "      <th>away_score</th>\n",
       "      <th>tournament</th>\n",
       "      <th>city</th>\n",
       "      <th>country</th>\n",
       "      <th>neutral</th>\n",
       "      <th>result</th>\n",
       "    </tr>\n",
       "  </thead>\n",
       "  <tbody>\n",
       "    <tr>\n",
       "      <th>347</th>\n",
       "      <td>01/12/1912</td>\n",
       "      <td>Catalonia</td>\n",
       "      <td>France</td>\n",
       "      <td>1</td>\n",
       "      <td>0</td>\n",
       "      <td>Friendly</td>\n",
       "      <td>Barcelona</td>\n",
       "      <td>Spain</td>\n",
       "      <td>False</td>\n",
       "      <td>win</td>\n",
       "    </tr>\n",
       "    <tr>\n",
       "      <th>415</th>\n",
       "      <td>03/01/1915</td>\n",
       "      <td>Basque Country</td>\n",
       "      <td>Catalonia</td>\n",
       "      <td>6</td>\n",
       "      <td>1</td>\n",
       "      <td>Friendly</td>\n",
       "      <td>Bilbao</td>\n",
       "      <td>Spain</td>\n",
       "      <td>False</td>\n",
       "      <td>win</td>\n",
       "    </tr>\n",
       "    <tr>\n",
       "      <th>417</th>\n",
       "      <td>07/02/1915</td>\n",
       "      <td>Catalonia</td>\n",
       "      <td>Basque Country</td>\n",
       "      <td>2</td>\n",
       "      <td>2</td>\n",
       "      <td>Friendly</td>\n",
       "      <td>Barcelona</td>\n",
       "      <td>Spain</td>\n",
       "      <td>False</td>\n",
       "      <td>draw</td>\n",
       "    </tr>\n",
       "    <tr>\n",
       "      <th>419</th>\n",
       "      <td>13/05/1915</td>\n",
       "      <td>Basque Country</td>\n",
       "      <td>Catalonia</td>\n",
       "      <td>1</td>\n",
       "      <td>0</td>\n",
       "      <td>Friendly</td>\n",
       "      <td>Madrid</td>\n",
       "      <td>Spain</td>\n",
       "      <td>False</td>\n",
       "      <td>win</td>\n",
       "    </tr>\n",
       "    <tr>\n",
       "      <th>432</th>\n",
       "      <td>21/05/1916</td>\n",
       "      <td>Catalonia</td>\n",
       "      <td>Basque Country</td>\n",
       "      <td>1</td>\n",
       "      <td>3</td>\n",
       "      <td>Friendly</td>\n",
       "      <td>Barcelona</td>\n",
       "      <td>Spain</td>\n",
       "      <td>False</td>\n",
       "      <td>lose</td>\n",
       "    </tr>\n",
       "    <tr>\n",
       "      <th>...</th>\n",
       "      <td>...</td>\n",
       "      <td>...</td>\n",
       "      <td>...</td>\n",
       "      <td>...</td>\n",
       "      <td>...</td>\n",
       "      <td>...</td>\n",
       "      <td>...</td>\n",
       "      <td>...</td>\n",
       "      <td>...</td>\n",
       "      <td>...</td>\n",
       "    </tr>\n",
       "    <tr>\n",
       "      <th>42416</th>\n",
       "      <td>14/06/2021</td>\n",
       "      <td>Spain</td>\n",
       "      <td>Sweden</td>\n",
       "      <td>0</td>\n",
       "      <td>0</td>\n",
       "      <td>UEFA Euro</td>\n",
       "      <td>Seville</td>\n",
       "      <td>Spain</td>\n",
       "      <td>False</td>\n",
       "      <td>draw</td>\n",
       "    </tr>\n",
       "    <tr>\n",
       "      <th>42454</th>\n",
       "      <td>19/06/2021</td>\n",
       "      <td>Spain</td>\n",
       "      <td>Poland</td>\n",
       "      <td>1</td>\n",
       "      <td>1</td>\n",
       "      <td>UEFA Euro</td>\n",
       "      <td>Seville</td>\n",
       "      <td>Spain</td>\n",
       "      <td>False</td>\n",
       "      <td>draw</td>\n",
       "    </tr>\n",
       "    <tr>\n",
       "      <th>42472</th>\n",
       "      <td>23/06/2021</td>\n",
       "      <td>Spain</td>\n",
       "      <td>Slovakia</td>\n",
       "      <td>5</td>\n",
       "      <td>0</td>\n",
       "      <td>UEFA Euro</td>\n",
       "      <td>Seville</td>\n",
       "      <td>Spain</td>\n",
       "      <td>False</td>\n",
       "      <td>win</td>\n",
       "    </tr>\n",
       "    <tr>\n",
       "      <th>42675</th>\n",
       "      <td>05/09/2021</td>\n",
       "      <td>Spain</td>\n",
       "      <td>Georgia</td>\n",
       "      <td>4</td>\n",
       "      <td>0</td>\n",
       "      <td>FIFA World Cup qualification</td>\n",
       "      <td>Badajoz</td>\n",
       "      <td>Spain</td>\n",
       "      <td>False</td>\n",
       "      <td>win</td>\n",
       "    </tr>\n",
       "    <tr>\n",
       "      <th>43004</th>\n",
       "      <td>14/11/2021</td>\n",
       "      <td>Spain</td>\n",
       "      <td>Sweden</td>\n",
       "      <td>1</td>\n",
       "      <td>0</td>\n",
       "      <td>FIFA World Cup qualification</td>\n",
       "      <td>Seville</td>\n",
       "      <td>Spain</td>\n",
       "      <td>False</td>\n",
       "      <td>win</td>\n",
       "    </tr>\n",
       "  </tbody>\n",
       "</table>\n",
       "<p>414 rows × 10 columns</p>\n",
       "</div>"
      ],
      "text/plain": [
       "             date       home_team       away_team  home_score  away_score  \\\n",
       "347    01/12/1912       Catalonia          France           1           0   \n",
       "415    03/01/1915  Basque Country       Catalonia           6           1   \n",
       "417    07/02/1915       Catalonia  Basque Country           2           2   \n",
       "419    13/05/1915  Basque Country       Catalonia           1           0   \n",
       "432    21/05/1916       Catalonia  Basque Country           1           3   \n",
       "...           ...             ...             ...         ...         ...   \n",
       "42416  14/06/2021           Spain          Sweden           0           0   \n",
       "42454  19/06/2021           Spain          Poland           1           1   \n",
       "42472  23/06/2021           Spain        Slovakia           5           0   \n",
       "42675  05/09/2021           Spain         Georgia           4           0   \n",
       "43004  14/11/2021           Spain          Sweden           1           0   \n",
       "\n",
       "                         tournament       city country  neutral result  \n",
       "347                        Friendly  Barcelona   Spain    False    win  \n",
       "415                        Friendly     Bilbao   Spain    False    win  \n",
       "417                        Friendly  Barcelona   Spain    False   draw  \n",
       "419                        Friendly     Madrid   Spain    False    win  \n",
       "432                        Friendly  Barcelona   Spain    False   lose  \n",
       "...                             ...        ...     ...      ...    ...  \n",
       "42416                     UEFA Euro    Seville   Spain    False   draw  \n",
       "42454                     UEFA Euro    Seville   Spain    False   draw  \n",
       "42472                     UEFA Euro    Seville   Spain    False    win  \n",
       "42675  FIFA World Cup qualification    Badajoz   Spain    False    win  \n",
       "43004  FIFA World Cup qualification    Seville   Spain    False    win  \n",
       "\n",
       "[414 rows x 10 columns]"
      ]
     },
     "execution_count": 9,
     "metadata": {},
     "output_type": "execute_result"
    }
   ],
   "source": [
    "df_noneutralspain"
   ]
  },
  {
   "cell_type": "code",
   "execution_count": 10,
   "id": "39b73dc1",
   "metadata": {},
   "outputs": [],
   "source": [
    "df_noneutralspainhome=df_noneutralspain[df_noneutralspain['home_team']=='Spain']"
   ]
  },
  {
   "cell_type": "code",
   "execution_count": 11,
   "id": "bb902a52",
   "metadata": {},
   "outputs": [
    {
     "data": {
      "text/html": [
       "<div>\n",
       "<style scoped>\n",
       "    .dataframe tbody tr th:only-of-type {\n",
       "        vertical-align: middle;\n",
       "    }\n",
       "\n",
       "    .dataframe tbody tr th {\n",
       "        vertical-align: top;\n",
       "    }\n",
       "\n",
       "    .dataframe thead th {\n",
       "        text-align: right;\n",
       "    }\n",
       "</style>\n",
       "<table border=\"1\" class=\"dataframe\">\n",
       "  <thead>\n",
       "    <tr style=\"text-align: right;\">\n",
       "      <th></th>\n",
       "      <th>date</th>\n",
       "      <th>home_team</th>\n",
       "      <th>away_team</th>\n",
       "      <th>home_score</th>\n",
       "      <th>away_score</th>\n",
       "      <th>tournament</th>\n",
       "      <th>city</th>\n",
       "      <th>country</th>\n",
       "      <th>neutral</th>\n",
       "      <th>result</th>\n",
       "    </tr>\n",
       "  </thead>\n",
       "  <tbody>\n",
       "    <tr>\n",
       "      <th>622</th>\n",
       "      <td>18/12/1921</td>\n",
       "      <td>Spain</td>\n",
       "      <td>Portugal</td>\n",
       "      <td>3</td>\n",
       "      <td>1</td>\n",
       "      <td>Friendly</td>\n",
       "      <td>Madrid</td>\n",
       "      <td>Spain</td>\n",
       "      <td>False</td>\n",
       "      <td>win</td>\n",
       "    </tr>\n",
       "    <tr>\n",
       "      <th>696</th>\n",
       "      <td>28/01/1923</td>\n",
       "      <td>Spain</td>\n",
       "      <td>France</td>\n",
       "      <td>3</td>\n",
       "      <td>0</td>\n",
       "      <td>Friendly</td>\n",
       "      <td>San Sebastián</td>\n",
       "      <td>Spain</td>\n",
       "      <td>False</td>\n",
       "      <td>win</td>\n",
       "    </tr>\n",
       "    <tr>\n",
       "      <th>779</th>\n",
       "      <td>16/12/1923</td>\n",
       "      <td>Spain</td>\n",
       "      <td>Portugal</td>\n",
       "      <td>3</td>\n",
       "      <td>0</td>\n",
       "      <td>Friendly</td>\n",
       "      <td>Seville</td>\n",
       "      <td>Spain</td>\n",
       "      <td>False</td>\n",
       "      <td>win</td>\n",
       "    </tr>\n",
       "    <tr>\n",
       "      <th>862</th>\n",
       "      <td>21/12/1924</td>\n",
       "      <td>Spain</td>\n",
       "      <td>Austria</td>\n",
       "      <td>2</td>\n",
       "      <td>1</td>\n",
       "      <td>Friendly</td>\n",
       "      <td>Barcelona</td>\n",
       "      <td>Spain</td>\n",
       "      <td>False</td>\n",
       "      <td>win</td>\n",
       "    </tr>\n",
       "    <tr>\n",
       "      <th>894</th>\n",
       "      <td>14/06/1925</td>\n",
       "      <td>Spain</td>\n",
       "      <td>Italy</td>\n",
       "      <td>1</td>\n",
       "      <td>0</td>\n",
       "      <td>Friendly</td>\n",
       "      <td>Valencia</td>\n",
       "      <td>Spain</td>\n",
       "      <td>False</td>\n",
       "      <td>win</td>\n",
       "    </tr>\n",
       "    <tr>\n",
       "      <th>...</th>\n",
       "      <td>...</td>\n",
       "      <td>...</td>\n",
       "      <td>...</td>\n",
       "      <td>...</td>\n",
       "      <td>...</td>\n",
       "      <td>...</td>\n",
       "      <td>...</td>\n",
       "      <td>...</td>\n",
       "      <td>...</td>\n",
       "      <td>...</td>\n",
       "    </tr>\n",
       "    <tr>\n",
       "      <th>42416</th>\n",
       "      <td>14/06/2021</td>\n",
       "      <td>Spain</td>\n",
       "      <td>Sweden</td>\n",
       "      <td>0</td>\n",
       "      <td>0</td>\n",
       "      <td>UEFA Euro</td>\n",
       "      <td>Seville</td>\n",
       "      <td>Spain</td>\n",
       "      <td>False</td>\n",
       "      <td>draw</td>\n",
       "    </tr>\n",
       "    <tr>\n",
       "      <th>42454</th>\n",
       "      <td>19/06/2021</td>\n",
       "      <td>Spain</td>\n",
       "      <td>Poland</td>\n",
       "      <td>1</td>\n",
       "      <td>1</td>\n",
       "      <td>UEFA Euro</td>\n",
       "      <td>Seville</td>\n",
       "      <td>Spain</td>\n",
       "      <td>False</td>\n",
       "      <td>draw</td>\n",
       "    </tr>\n",
       "    <tr>\n",
       "      <th>42472</th>\n",
       "      <td>23/06/2021</td>\n",
       "      <td>Spain</td>\n",
       "      <td>Slovakia</td>\n",
       "      <td>5</td>\n",
       "      <td>0</td>\n",
       "      <td>UEFA Euro</td>\n",
       "      <td>Seville</td>\n",
       "      <td>Spain</td>\n",
       "      <td>False</td>\n",
       "      <td>win</td>\n",
       "    </tr>\n",
       "    <tr>\n",
       "      <th>42675</th>\n",
       "      <td>05/09/2021</td>\n",
       "      <td>Spain</td>\n",
       "      <td>Georgia</td>\n",
       "      <td>4</td>\n",
       "      <td>0</td>\n",
       "      <td>FIFA World Cup qualification</td>\n",
       "      <td>Badajoz</td>\n",
       "      <td>Spain</td>\n",
       "      <td>False</td>\n",
       "      <td>win</td>\n",
       "    </tr>\n",
       "    <tr>\n",
       "      <th>43004</th>\n",
       "      <td>14/11/2021</td>\n",
       "      <td>Spain</td>\n",
       "      <td>Sweden</td>\n",
       "      <td>1</td>\n",
       "      <td>0</td>\n",
       "      <td>FIFA World Cup qualification</td>\n",
       "      <td>Seville</td>\n",
       "      <td>Spain</td>\n",
       "      <td>False</td>\n",
       "      <td>win</td>\n",
       "    </tr>\n",
       "  </tbody>\n",
       "</table>\n",
       "<p>317 rows × 10 columns</p>\n",
       "</div>"
      ],
      "text/plain": [
       "             date home_team away_team  home_score  away_score  \\\n",
       "622    18/12/1921     Spain  Portugal           3           1   \n",
       "696    28/01/1923     Spain    France           3           0   \n",
       "779    16/12/1923     Spain  Portugal           3           0   \n",
       "862    21/12/1924     Spain   Austria           2           1   \n",
       "894    14/06/1925     Spain     Italy           1           0   \n",
       "...           ...       ...       ...         ...         ...   \n",
       "42416  14/06/2021     Spain    Sweden           0           0   \n",
       "42454  19/06/2021     Spain    Poland           1           1   \n",
       "42472  23/06/2021     Spain  Slovakia           5           0   \n",
       "42675  05/09/2021     Spain   Georgia           4           0   \n",
       "43004  14/11/2021     Spain    Sweden           1           0   \n",
       "\n",
       "                         tournament           city country  neutral result  \n",
       "622                        Friendly         Madrid   Spain    False    win  \n",
       "696                        Friendly  San Sebastián   Spain    False    win  \n",
       "779                        Friendly        Seville   Spain    False    win  \n",
       "862                        Friendly      Barcelona   Spain    False    win  \n",
       "894                        Friendly       Valencia   Spain    False    win  \n",
       "...                             ...            ...     ...      ...    ...  \n",
       "42416                     UEFA Euro        Seville   Spain    False   draw  \n",
       "42454                     UEFA Euro        Seville   Spain    False   draw  \n",
       "42472                     UEFA Euro        Seville   Spain    False    win  \n",
       "42675  FIFA World Cup qualification        Badajoz   Spain    False    win  \n",
       "43004  FIFA World Cup qualification        Seville   Spain    False    win  \n",
       "\n",
       "[317 rows x 10 columns]"
      ]
     },
     "execution_count": 11,
     "metadata": {},
     "output_type": "execute_result"
    }
   ],
   "source": [
    "df_noneutralspainhome"
   ]
  },
  {
   "cell_type": "code",
   "execution_count": 12,
   "id": "06588129",
   "metadata": {
    "scrolled": true
   },
   "outputs": [
    {
     "data": {
      "text/plain": [
       "Friendly                        179\n",
       "UEFA Euro qualification          62\n",
       "FIFA World Cup qualification     61\n",
       "UEFA Euro                         5\n",
       "FIFA World Cup                    5\n",
       "UEFA Nations League               5\n",
       "Name: tournament, dtype: int64"
      ]
     },
     "execution_count": 12,
     "metadata": {},
     "output_type": "execute_result"
    }
   ],
   "source": [
    "df_noneutralspainhome['tournament'].value_counts()"
   ]
  },
  {
   "cell_type": "code",
   "execution_count": 13,
   "id": "0b7e7ab6",
   "metadata": {},
   "outputs": [],
   "source": [
    "df_spaineuroqualifiction=df_noneutralspainhome[df_noneutralspainhome['tournament']=='UEFA Euro qualification']"
   ]
  },
  {
   "cell_type": "code",
   "execution_count": null,
   "id": "7396819e",
   "metadata": {},
   "outputs": [],
   "source": []
  },
  {
   "cell_type": "code",
   "execution_count": 14,
   "id": "5d426d34",
   "metadata": {},
   "outputs": [
    {
     "data": {
      "text/html": [
       "<div>\n",
       "<style scoped>\n",
       "    .dataframe tbody tr th:only-of-type {\n",
       "        vertical-align: middle;\n",
       "    }\n",
       "\n",
       "    .dataframe tbody tr th {\n",
       "        vertical-align: top;\n",
       "    }\n",
       "\n",
       "    .dataframe thead th {\n",
       "        text-align: right;\n",
       "    }\n",
       "</style>\n",
       "<table border=\"1\" class=\"dataframe\">\n",
       "  <thead>\n",
       "    <tr style=\"text-align: right;\">\n",
       "      <th></th>\n",
       "      <th>date</th>\n",
       "      <th>home_team</th>\n",
       "      <th>away_team</th>\n",
       "      <th>home_score</th>\n",
       "      <th>away_score</th>\n",
       "      <th>tournament</th>\n",
       "      <th>city</th>\n",
       "      <th>country</th>\n",
       "      <th>neutral</th>\n",
       "      <th>result</th>\n",
       "    </tr>\n",
       "  </thead>\n",
       "  <tbody>\n",
       "    <tr>\n",
       "      <th>4606</th>\n",
       "      <td>14/10/1959</td>\n",
       "      <td>Spain</td>\n",
       "      <td>Poland</td>\n",
       "      <td>3</td>\n",
       "      <td>0</td>\n",
       "      <td>UEFA Euro qualification</td>\n",
       "      <td>Madrid</td>\n",
       "      <td>Spain</td>\n",
       "      <td>False</td>\n",
       "      <td>win</td>\n",
       "    </tr>\n",
       "    <tr>\n",
       "      <th>5260</th>\n",
       "      <td>01/11/1962</td>\n",
       "      <td>Spain</td>\n",
       "      <td>Romania</td>\n",
       "      <td>6</td>\n",
       "      <td>0</td>\n",
       "      <td>UEFA Euro qualification</td>\n",
       "      <td>Madrid</td>\n",
       "      <td>Spain</td>\n",
       "      <td>False</td>\n",
       "      <td>win</td>\n",
       "    </tr>\n",
       "    <tr>\n",
       "      <th>5428</th>\n",
       "      <td>30/05/1963</td>\n",
       "      <td>Spain</td>\n",
       "      <td>Northern Ireland</td>\n",
       "      <td>1</td>\n",
       "      <td>1</td>\n",
       "      <td>UEFA Euro qualification</td>\n",
       "      <td>Bilbao</td>\n",
       "      <td>Spain</td>\n",
       "      <td>False</td>\n",
       "      <td>draw</td>\n",
       "    </tr>\n",
       "    <tr>\n",
       "      <th>5596</th>\n",
       "      <td>11/03/1964</td>\n",
       "      <td>Spain</td>\n",
       "      <td>Republic of Ireland</td>\n",
       "      <td>5</td>\n",
       "      <td>1</td>\n",
       "      <td>UEFA Euro qualification</td>\n",
       "      <td>Seville</td>\n",
       "      <td>Spain</td>\n",
       "      <td>False</td>\n",
       "      <td>win</td>\n",
       "    </tr>\n",
       "    <tr>\n",
       "      <th>6403</th>\n",
       "      <td>07/12/1966</td>\n",
       "      <td>Spain</td>\n",
       "      <td>Republic of Ireland</td>\n",
       "      <td>2</td>\n",
       "      <td>0</td>\n",
       "      <td>UEFA Euro qualification</td>\n",
       "      <td>Valencia</td>\n",
       "      <td>Spain</td>\n",
       "      <td>False</td>\n",
       "      <td>win</td>\n",
       "    </tr>\n",
       "    <tr>\n",
       "      <th>...</th>\n",
       "      <td>...</td>\n",
       "      <td>...</td>\n",
       "      <td>...</td>\n",
       "      <td>...</td>\n",
       "      <td>...</td>\n",
       "      <td>...</td>\n",
       "      <td>...</td>\n",
       "      <td>...</td>\n",
       "      <td>...</td>\n",
       "      <td>...</td>\n",
       "    </tr>\n",
       "    <tr>\n",
       "      <th>37490</th>\n",
       "      <td>09/10/2015</td>\n",
       "      <td>Spain</td>\n",
       "      <td>Luxembourg</td>\n",
       "      <td>4</td>\n",
       "      <td>0</td>\n",
       "      <td>UEFA Euro qualification</td>\n",
       "      <td>Logroño</td>\n",
       "      <td>Spain</td>\n",
       "      <td>False</td>\n",
       "      <td>win</td>\n",
       "    </tr>\n",
       "    <tr>\n",
       "      <th>40677</th>\n",
       "      <td>23/03/2019</td>\n",
       "      <td>Spain</td>\n",
       "      <td>Norway</td>\n",
       "      <td>2</td>\n",
       "      <td>1</td>\n",
       "      <td>UEFA Euro qualification</td>\n",
       "      <td>Valencia</td>\n",
       "      <td>Spain</td>\n",
       "      <td>False</td>\n",
       "      <td>win</td>\n",
       "    </tr>\n",
       "    <tr>\n",
       "      <th>40889</th>\n",
       "      <td>10/06/2019</td>\n",
       "      <td>Spain</td>\n",
       "      <td>Sweden</td>\n",
       "      <td>3</td>\n",
       "      <td>0</td>\n",
       "      <td>UEFA Euro qualification</td>\n",
       "      <td>Madrid</td>\n",
       "      <td>Spain</td>\n",
       "      <td>False</td>\n",
       "      <td>win</td>\n",
       "    </tr>\n",
       "    <tr>\n",
       "      <th>41581</th>\n",
       "      <td>15/11/2019</td>\n",
       "      <td>Spain</td>\n",
       "      <td>Malta</td>\n",
       "      <td>7</td>\n",
       "      <td>0</td>\n",
       "      <td>UEFA Euro qualification</td>\n",
       "      <td>Cádiz</td>\n",
       "      <td>Spain</td>\n",
       "      <td>False</td>\n",
       "      <td>win</td>\n",
       "    </tr>\n",
       "    <tr>\n",
       "      <th>41646</th>\n",
       "      <td>18/11/2019</td>\n",
       "      <td>Spain</td>\n",
       "      <td>Romania</td>\n",
       "      <td>5</td>\n",
       "      <td>0</td>\n",
       "      <td>UEFA Euro qualification</td>\n",
       "      <td>Madrid</td>\n",
       "      <td>Spain</td>\n",
       "      <td>False</td>\n",
       "      <td>win</td>\n",
       "    </tr>\n",
       "  </tbody>\n",
       "</table>\n",
       "<p>62 rows × 10 columns</p>\n",
       "</div>"
      ],
      "text/plain": [
       "             date home_team            away_team  home_score  away_score  \\\n",
       "4606   14/10/1959     Spain               Poland           3           0   \n",
       "5260   01/11/1962     Spain              Romania           6           0   \n",
       "5428   30/05/1963     Spain     Northern Ireland           1           1   \n",
       "5596   11/03/1964     Spain  Republic of Ireland           5           1   \n",
       "6403   07/12/1966     Spain  Republic of Ireland           2           0   \n",
       "...           ...       ...                  ...         ...         ...   \n",
       "37490  09/10/2015     Spain           Luxembourg           4           0   \n",
       "40677  23/03/2019     Spain               Norway           2           1   \n",
       "40889  10/06/2019     Spain               Sweden           3           0   \n",
       "41581  15/11/2019     Spain                Malta           7           0   \n",
       "41646  18/11/2019     Spain              Romania           5           0   \n",
       "\n",
       "                    tournament      city country  neutral result  \n",
       "4606   UEFA Euro qualification    Madrid   Spain    False    win  \n",
       "5260   UEFA Euro qualification    Madrid   Spain    False    win  \n",
       "5428   UEFA Euro qualification    Bilbao   Spain    False   draw  \n",
       "5596   UEFA Euro qualification   Seville   Spain    False    win  \n",
       "6403   UEFA Euro qualification  Valencia   Spain    False    win  \n",
       "...                        ...       ...     ...      ...    ...  \n",
       "37490  UEFA Euro qualification   Logroño   Spain    False    win  \n",
       "40677  UEFA Euro qualification  Valencia   Spain    False    win  \n",
       "40889  UEFA Euro qualification    Madrid   Spain    False    win  \n",
       "41581  UEFA Euro qualification     Cádiz   Spain    False    win  \n",
       "41646  UEFA Euro qualification    Madrid   Spain    False    win  \n",
       "\n",
       "[62 rows x 10 columns]"
      ]
     },
     "execution_count": 14,
     "metadata": {},
     "output_type": "execute_result"
    }
   ],
   "source": [
    "df_spaineuroqualifiction"
   ]
  },
  {
   "cell_type": "code",
   "execution_count": 15,
   "id": "0ab727b7",
   "metadata": {},
   "outputs": [],
   "source": [
    "conditions = [\n",
    "    (df_spaineuroqualifiction['tournament']=='UEFA Euro qualification') \n",
    "    ]"
   ]
  },
  {
   "cell_type": "code",
   "execution_count": 16,
   "id": "04e9ae02",
   "metadata": {},
   "outputs": [],
   "source": [
    "values=['UEFA Euro qualification']"
   ]
  },
  {
   "cell_type": "code",
   "execution_count": 17,
   "id": "3e9efa79",
   "metadata": {},
   "outputs": [
    {
     "name": "stderr",
     "output_type": "stream",
     "text": [
      "/var/folders/jz/hk1412pd4bbdhjt78vrlf33r0000gn/T/ipykernel_3263/3642666629.py:1: SettingWithCopyWarning: \n",
      "A value is trying to be set on a copy of a slice from a DataFrame.\n",
      "Try using .loc[row_indexer,col_indexer] = value instead\n",
      "\n",
      "See the caveats in the documentation: https://pandas.pydata.org/pandas-docs/stable/user_guide/indexing.html#returning-a-view-versus-a-copy\n",
      "  df_spaineuroqualifiction['home games in euro qualification'] = np.select(conditions, values)\n"
     ]
    }
   ],
   "source": [
    "df_spaineuroqualifiction['home games in euro qualification'] = np.select(conditions, values)"
   ]
  },
  {
   "cell_type": "code",
   "execution_count": 18,
   "id": "9d5a3f74",
   "metadata": {},
   "outputs": [],
   "source": [
    "x=pd.crosstab(df_spaineuroqualifiction['home games in euro qualification'],df_spaineuroqualifiction['result'],margins=True)"
   ]
  },
  {
   "cell_type": "code",
   "execution_count": 19,
   "id": "d8645114",
   "metadata": {},
   "outputs": [
    {
     "data": {
      "text/html": [
       "<div>\n",
       "<style scoped>\n",
       "    .dataframe tbody tr th:only-of-type {\n",
       "        vertical-align: middle;\n",
       "    }\n",
       "\n",
       "    .dataframe tbody tr th {\n",
       "        vertical-align: top;\n",
       "    }\n",
       "\n",
       "    .dataframe thead th {\n",
       "        text-align: right;\n",
       "    }\n",
       "</style>\n",
       "<table border=\"1\" class=\"dataframe\">\n",
       "  <thead>\n",
       "    <tr style=\"text-align: right;\">\n",
       "      <th>result</th>\n",
       "      <th>draw</th>\n",
       "      <th>lose</th>\n",
       "      <th>win</th>\n",
       "      <th>All</th>\n",
       "    </tr>\n",
       "    <tr>\n",
       "      <th>home games in euro qualification</th>\n",
       "      <th></th>\n",
       "      <th></th>\n",
       "      <th></th>\n",
       "      <th></th>\n",
       "    </tr>\n",
       "  </thead>\n",
       "  <tbody>\n",
       "    <tr>\n",
       "      <th>UEFA Euro qualification</th>\n",
       "      <td>6</td>\n",
       "      <td>4</td>\n",
       "      <td>52</td>\n",
       "      <td>62</td>\n",
       "    </tr>\n",
       "    <tr>\n",
       "      <th>All</th>\n",
       "      <td>6</td>\n",
       "      <td>4</td>\n",
       "      <td>52</td>\n",
       "      <td>62</td>\n",
       "    </tr>\n",
       "  </tbody>\n",
       "</table>\n",
       "</div>"
      ],
      "text/plain": [
       "result                            draw  lose  win  All\n",
       "home games in euro qualification                      \n",
       "UEFA Euro qualification              6     4   52   62\n",
       "All                                  6     4   52   62"
      ]
     },
     "execution_count": 19,
     "metadata": {},
     "output_type": "execute_result"
    }
   ],
   "source": [
    "x"
   ]
  },
  {
   "cell_type": "code",
   "execution_count": 20,
   "id": "ea7f4a3b",
   "metadata": {},
   "outputs": [],
   "source": [
    "df_spainwcqualification=df_noneutralspainhome[df_noneutralspainhome['tournament']=='FIFA World Cup qualification']"
   ]
  },
  {
   "cell_type": "code",
   "execution_count": 21,
   "id": "7e5c07f2",
   "metadata": {},
   "outputs": [],
   "source": [
    "conditions = [\n",
    "    (df_spainwcqualification['tournament']=='FIFA World Cup qualification') \n",
    "    ]"
   ]
  },
  {
   "cell_type": "code",
   "execution_count": 22,
   "id": "e9d3e1da",
   "metadata": {},
   "outputs": [],
   "source": [
    "values=['World Cup Games in Spain qualification']"
   ]
  },
  {
   "cell_type": "code",
   "execution_count": 23,
   "id": "3def9547",
   "metadata": {},
   "outputs": [
    {
     "name": "stderr",
     "output_type": "stream",
     "text": [
      "/var/folders/jz/hk1412pd4bbdhjt78vrlf33r0000gn/T/ipykernel_3263/794567014.py:1: SettingWithCopyWarning: \n",
      "A value is trying to be set on a copy of a slice from a DataFrame.\n",
      "Try using .loc[row_indexer,col_indexer] = value instead\n",
      "\n",
      "See the caveats in the documentation: https://pandas.pydata.org/pandas-docs/stable/user_guide/indexing.html#returning-a-view-versus-a-copy\n",
      "  df_spainwcqualification['World Cup Games in Spain qualification'] = np.select(conditions, values)\n"
     ]
    }
   ],
   "source": [
    "df_spainwcqualification['World Cup Games in Spain qualification'] = np.select(conditions, values)"
   ]
  },
  {
   "cell_type": "code",
   "execution_count": 24,
   "id": "4efb7e08",
   "metadata": {},
   "outputs": [
    {
     "data": {
      "text/html": [
       "<div>\n",
       "<style scoped>\n",
       "    .dataframe tbody tr th:only-of-type {\n",
       "        vertical-align: middle;\n",
       "    }\n",
       "\n",
       "    .dataframe tbody tr th {\n",
       "        vertical-align: top;\n",
       "    }\n",
       "\n",
       "    .dataframe thead th {\n",
       "        text-align: right;\n",
       "    }\n",
       "</style>\n",
       "<table border=\"1\" class=\"dataframe\">\n",
       "  <thead>\n",
       "    <tr style=\"text-align: right;\">\n",
       "      <th>result</th>\n",
       "      <th>draw</th>\n",
       "      <th>win</th>\n",
       "      <th>All</th>\n",
       "    </tr>\n",
       "    <tr>\n",
       "      <th>World Cup Games in Spain qualification</th>\n",
       "      <th></th>\n",
       "      <th></th>\n",
       "      <th></th>\n",
       "    </tr>\n",
       "  </thead>\n",
       "  <tbody>\n",
       "    <tr>\n",
       "      <th>World Cup Games in Spain qualification</th>\n",
       "      <td>10</td>\n",
       "      <td>51</td>\n",
       "      <td>61</td>\n",
       "    </tr>\n",
       "    <tr>\n",
       "      <th>All</th>\n",
       "      <td>10</td>\n",
       "      <td>51</td>\n",
       "      <td>61</td>\n",
       "    </tr>\n",
       "  </tbody>\n",
       "</table>\n",
       "</div>"
      ],
      "text/plain": [
       "result                                  draw  win  All\n",
       "World Cup Games in Spain qualification                \n",
       "World Cup Games in Spain qualification    10   51   61\n",
       "All                                       10   51   61"
      ]
     },
     "execution_count": 24,
     "metadata": {},
     "output_type": "execute_result"
    }
   ],
   "source": [
    "y=pd.crosstab(df_spainwcqualification['World Cup Games in Spain qualification'],df_spainwcqualification['result'],margins=True)\n",
    "y"
   ]
  },
  {
   "cell_type": "code",
   "execution_count": 25,
   "id": "4d4bf341",
   "metadata": {},
   "outputs": [],
   "source": [
    "df_spainFriendly=df_noneutralspainhome[df_noneutralspainhome['tournament']=='Friendly']"
   ]
  },
  {
   "cell_type": "code",
   "execution_count": 26,
   "id": "3d80d510",
   "metadata": {},
   "outputs": [],
   "source": [
    "conditions = [\n",
    "    (df_spainFriendly['tournament']=='Friendly') \n",
    "    ]"
   ]
  },
  {
   "cell_type": "code",
   "execution_count": 27,
   "id": "e52bc340",
   "metadata": {},
   "outputs": [],
   "source": [
    "values=['Friendly']"
   ]
  },
  {
   "cell_type": "code",
   "execution_count": 28,
   "id": "5eb9f533",
   "metadata": {},
   "outputs": [
    {
     "name": "stderr",
     "output_type": "stream",
     "text": [
      "/var/folders/jz/hk1412pd4bbdhjt78vrlf33r0000gn/T/ipykernel_3263/3820674669.py:1: SettingWithCopyWarning: \n",
      "A value is trying to be set on a copy of a slice from a DataFrame.\n",
      "Try using .loc[row_indexer,col_indexer] = value instead\n",
      "\n",
      "See the caveats in the documentation: https://pandas.pydata.org/pandas-docs/stable/user_guide/indexing.html#returning-a-view-versus-a-copy\n",
      "  df_spainFriendly['Friendly'] = np.select(conditions, values)\n"
     ]
    }
   ],
   "source": [
    "df_spainFriendly['Friendly'] = np.select(conditions, values)"
   ]
  },
  {
   "cell_type": "code",
   "execution_count": 29,
   "id": "ce78b505",
   "metadata": {},
   "outputs": [
    {
     "data": {
      "text/html": [
       "<div>\n",
       "<style scoped>\n",
       "    .dataframe tbody tr th:only-of-type {\n",
       "        vertical-align: middle;\n",
       "    }\n",
       "\n",
       "    .dataframe tbody tr th {\n",
       "        vertical-align: top;\n",
       "    }\n",
       "\n",
       "    .dataframe thead th {\n",
       "        text-align: right;\n",
       "    }\n",
       "</style>\n",
       "<table border=\"1\" class=\"dataframe\">\n",
       "  <thead>\n",
       "    <tr style=\"text-align: right;\">\n",
       "      <th>result</th>\n",
       "      <th>draw</th>\n",
       "      <th>lose</th>\n",
       "      <th>win</th>\n",
       "      <th>All</th>\n",
       "    </tr>\n",
       "    <tr>\n",
       "      <th>Friendly</th>\n",
       "      <th></th>\n",
       "      <th></th>\n",
       "      <th></th>\n",
       "      <th></th>\n",
       "    </tr>\n",
       "  </thead>\n",
       "  <tbody>\n",
       "    <tr>\n",
       "      <th>Friendly</th>\n",
       "      <td>38</td>\n",
       "      <td>30</td>\n",
       "      <td>111</td>\n",
       "      <td>179</td>\n",
       "    </tr>\n",
       "    <tr>\n",
       "      <th>All</th>\n",
       "      <td>38</td>\n",
       "      <td>30</td>\n",
       "      <td>111</td>\n",
       "      <td>179</td>\n",
       "    </tr>\n",
       "  </tbody>\n",
       "</table>\n",
       "</div>"
      ],
      "text/plain": [
       "result    draw  lose  win  All\n",
       "Friendly                      \n",
       "Friendly    38    30  111  179\n",
       "All         38    30  111  179"
      ]
     },
     "execution_count": 29,
     "metadata": {},
     "output_type": "execute_result"
    }
   ],
   "source": [
    "z=pd.crosstab(df_spainFriendly['Friendly'],df_spainFriendly['result'],margins=True)\n",
    "z"
   ]
  },
  {
   "cell_type": "code",
   "execution_count": 30,
   "id": "df47f0da",
   "metadata": {},
   "outputs": [
    {
     "data": {
      "text/plain": [
       "array([[ 6,  4, 52, 62],\n",
       "       [ 6,  4, 52, 62]])"
      ]
     },
     "execution_count": 30,
     "metadata": {},
     "output_type": "execute_result"
    }
   ],
   "source": [
    "x=np.array(x)\n",
    "x"
   ]
  },
  {
   "cell_type": "code",
   "execution_count": 31,
   "id": "3ad1a10c",
   "metadata": {},
   "outputs": [
    {
     "data": {
      "text/plain": [
       "array([[10, 51, 61],\n",
       "       [10, 51, 61]])"
      ]
     },
     "execution_count": 31,
     "metadata": {},
     "output_type": "execute_result"
    }
   ],
   "source": [
    "y=np.array(y)\n",
    "y"
   ]
  },
  {
   "cell_type": "code",
   "execution_count": 32,
   "id": "150fe704",
   "metadata": {},
   "outputs": [
    {
     "data": {
      "text/plain": [
       "array([[ 38,  30, 111, 179],\n",
       "       [ 38,  30, 111, 179]])"
      ]
     },
     "execution_count": 32,
     "metadata": {},
     "output_type": "execute_result"
    }
   ],
   "source": [
    "z=np.array(z)\n",
    "z"
   ]
  },
  {
   "cell_type": "code",
   "execution_count": 33,
   "id": "c2eeb27e",
   "metadata": {},
   "outputs": [],
   "source": [
    "from statsmodels.stats.proportion import proportion_confint"
   ]
  },
  {
   "cell_type": "code",
   "execution_count": 34,
   "id": "9813f064",
   "metadata": {},
   "outputs": [],
   "source": [
    "import numpy as np\n",
    "from scipy.stats import norm,t"
   ]
  },
  {
   "cell_type": "code",
   "execution_count": 35,
   "id": "165e1cbc",
   "metadata": {},
   "outputs": [
    {
     "data": {
      "text/plain": [
       "(0.7471588595152658, 0.9302604953234439)"
      ]
     },
     "execution_count": 35,
     "metadata": {},
     "output_type": "execute_result"
    }
   ],
   "source": [
    "CI_spaineuroqual=proportion_confint(count=x[0,2],nobs=x[0,3],alpha=(1-.95))\n",
    "CI_spaineuroqual"
   ]
  },
  {
   "cell_type": "code",
   "execution_count": 36,
   "id": "fc69bb65",
   "metadata": {},
   "outputs": [
    {
     "data": {
      "text/plain": [
       "(0.743160715196361, 0.9289704323446227)"
      ]
     },
     "execution_count": 36,
     "metadata": {},
     "output_type": "execute_result"
    }
   ],
   "source": [
    "CI_spainwcqual=proportion_confint(count=y[0,1],nobs=y[0,2],alpha=(1-.95))\n",
    "CI_spainwcqual"
   ]
  },
  {
   "cell_type": "code",
   "execution_count": 37,
   "id": "95912c4d",
   "metadata": {},
   "outputs": [
    {
     "data": {
      "text/plain": [
       "(0.5490092941741966, 0.6912141695129541)"
      ]
     },
     "execution_count": 37,
     "metadata": {},
     "output_type": "execute_result"
    }
   ],
   "source": [
    "    CI_spainfreindly=proportion_confint(count=z[0,2],nobs=z[0,3],alpha=(1-.95))\n",
    "CI_spainfreindly"
   ]
  },
  {
   "cell_type": "code",
   "execution_count": 38,
   "id": "223f8b45",
   "metadata": {},
   "outputs": [
    {
     "data": {
      "text/html": [
       "<div>\n",
       "<style scoped>\n",
       "    .dataframe tbody tr th:only-of-type {\n",
       "        vertical-align: middle;\n",
       "    }\n",
       "\n",
       "    .dataframe tbody tr th {\n",
       "        vertical-align: top;\n",
       "    }\n",
       "\n",
       "    .dataframe thead th {\n",
       "        text-align: right;\n",
       "    }\n",
       "</style>\n",
       "<table border=\"1\" class=\"dataframe\">\n",
       "  <thead>\n",
       "    <tr style=\"text-align: right;\">\n",
       "      <th></th>\n",
       "      <th>euro qual or wc Qual or freindly</th>\n",
       "      <th>lb</th>\n",
       "      <th>ub</th>\n",
       "    </tr>\n",
       "  </thead>\n",
       "  <tbody>\n",
       "    <tr>\n",
       "      <th>0</th>\n",
       "      <td>euro qual</td>\n",
       "      <td>0.747159</td>\n",
       "      <td>0.930260</td>\n",
       "    </tr>\n",
       "    <tr>\n",
       "      <th>1</th>\n",
       "      <td>wc qual</td>\n",
       "      <td>0.743161</td>\n",
       "      <td>0.928970</td>\n",
       "    </tr>\n",
       "    <tr>\n",
       "      <th>2</th>\n",
       "      <td>freindly</td>\n",
       "      <td>0.549009</td>\n",
       "      <td>0.691214</td>\n",
       "    </tr>\n",
       "  </tbody>\n",
       "</table>\n",
       "</div>"
      ],
      "text/plain": [
       "  euro qual or wc Qual or freindly        lb        ub\n",
       "0                        euro qual  0.747159  0.930260\n",
       "1                          wc qual  0.743161  0.928970\n",
       "2                         freindly  0.549009  0.691214"
      ]
     },
     "execution_count": 38,
     "metadata": {},
     "output_type": "execute_result"
    }
   ],
   "source": [
    "ci_spain= {}\n",
    "ci_spain['euro qual or wc Qual or freindly' ] = ['euro qual','wc qual', 'freindly']\n",
    "ci_spain['lb'] = [CI_spaineuroqual[0],CI_spainwcqual[0],CI_spainfreindly[0]]\n",
    "ci_spain['ub'] = [CI_spaineuroqual[1],CI_spainwcqual[1],CI_spainfreindly[1]]\n",
    "df_ci= pd.DataFrame(ci_spain)\n",
    "df_ci"
   ]
  },
  {
   "cell_type": "code",
   "execution_count": 39,
   "id": "4de9b55c",
   "metadata": {},
   "outputs": [
    {
     "data": {
      "text/plain": [
       "([<matplotlib.axis.YTick at 0x7f90152e9370>,\n",
       "  <matplotlib.axis.YTick at 0x7f90152d5670>,\n",
       "  <matplotlib.axis.YTick at 0x7f90152d5340>],\n",
       " [Text(0, 0, 'euro qual'), Text(0, 1, 'wc qual'), Text(0, 2, 'freindly')])"
      ]
     },
     "execution_count": 39,
     "metadata": {},
     "output_type": "execute_result"
    },
    {
     "data": {
      "image/png": "[encoded data removed]",
      "text/plain": [
       "<Figure size 432x288 with 1 Axes>"
      ]
     },
     "metadata": {
      "needs_background": "light"
     },
     "output_type": "display_data"
    }
   ],
   "source": [
    "import matplotlib.pyplot as plt\n",
    "for lb,ub,y in zip(df_ci['lb'],df_ci['ub'],range(len(df_ci))):\n",
    "    plt.plot((lb,ub),(y,y),'ro-')\n",
    "plt.yticks(range(len(df_ci)),list(df_ci['euro qual or wc Qual or freindly']))"
   ]
  },
  {
   "cell_type": "code",
   "execution_count": 40,
   "id": "35c7bef1",
   "metadata": {},
   "outputs": [],
   "source": [
    "df_noneutralItaly=df_noneutral[df_noneutral['country']=='Italy']"
   ]
  },
  {
   "cell_type": "code",
   "execution_count": 41,
   "id": "f8e3d073",
   "metadata": {},
   "outputs": [],
   "source": [
    "df_noneutralItalyhome=df_noneutralItaly[df_noneutralItaly['home_team']=='Italy']"
   ]
  },
  {
   "cell_type": "code",
   "execution_count": 42,
   "id": "a3963b37",
   "metadata": {},
   "outputs": [],
   "source": [
    "df_Italyeuroqualifiction=df_noneutralItalyhome[df_noneutralItalyhome['tournament']=='UEFA Euro qualification']"
   ]
  },
  {
   "cell_type": "code",
   "execution_count": 43,
   "id": "998fc438",
   "metadata": {},
   "outputs": [],
   "source": [
    "conditions = [\n",
    "    (df_Italyeuroqualifiction['tournament']=='UEFA Euro qualification') \n",
    "    ]\n",
    "values=['UEFA Euro qualification']"
   ]
  },
  {
   "cell_type": "code",
   "execution_count": 44,
   "id": "cf0b6fb2",
   "metadata": {},
   "outputs": [
    {
     "name": "stderr",
     "output_type": "stream",
     "text": [
      "/var/folders/jz/hk1412pd4bbdhjt78vrlf33r0000gn/T/ipykernel_3263/4149999335.py:1: SettingWithCopyWarning: \n",
      "A value is trying to be set on a copy of a slice from a DataFrame.\n",
      "Try using .loc[row_indexer,col_indexer] = value instead\n",
      "\n",
      "See the caveats in the documentation: https://pandas.pydata.org/pandas-docs/stable/user_guide/indexing.html#returning-a-view-versus-a-copy\n",
      "  df_Italyeuroqualifiction['home games in euro qualification'] = np.select(conditions, values)\n"
     ]
    }
   ],
   "source": [
    "df_Italyeuroqualifiction['home games in euro qualification'] = np.select(conditions, values)"
   ]
  },
  {
   "cell_type": "code",
   "execution_count": 45,
   "id": "9f21214f",
   "metadata": {
    "scrolled": true
   },
   "outputs": [
    {
     "data": {
      "text/html": [
       "<div>\n",
       "<style scoped>\n",
       "    .dataframe tbody tr th:only-of-type {\n",
       "        vertical-align: middle;\n",
       "    }\n",
       "\n",
       "    .dataframe tbody tr th {\n",
       "        vertical-align: top;\n",
       "    }\n",
       "\n",
       "    .dataframe thead th {\n",
       "        text-align: right;\n",
       "    }\n",
       "</style>\n",
       "<table border=\"1\" class=\"dataframe\">\n",
       "  <thead>\n",
       "    <tr style=\"text-align: right;\">\n",
       "      <th>result</th>\n",
       "      <th>draw</th>\n",
       "      <th>lose</th>\n",
       "      <th>win</th>\n",
       "      <th>All</th>\n",
       "    </tr>\n",
       "    <tr>\n",
       "      <th>home games in euro qualification</th>\n",
       "      <th></th>\n",
       "      <th></th>\n",
       "      <th></th>\n",
       "      <th></th>\n",
       "    </tr>\n",
       "  </thead>\n",
       "  <tbody>\n",
       "    <tr>\n",
       "      <th>UEFA Euro qualification</th>\n",
       "      <td>14</td>\n",
       "      <td>3</td>\n",
       "      <td>42</td>\n",
       "      <td>59</td>\n",
       "    </tr>\n",
       "    <tr>\n",
       "      <th>All</th>\n",
       "      <td>14</td>\n",
       "      <td>3</td>\n",
       "      <td>42</td>\n",
       "      <td>59</td>\n",
       "    </tr>\n",
       "  </tbody>\n",
       "</table>\n",
       "</div>"
      ],
      "text/plain": [
       "result                            draw  lose  win  All\n",
       "home games in euro qualification                      \n",
       "UEFA Euro qualification             14     3   42   59\n",
       "All                                 14     3   42   59"
      ]
     },
     "execution_count": 45,
     "metadata": {},
     "output_type": "execute_result"
    }
   ],
   "source": [
    "x=pd.crosstab(df_Italyeuroqualifiction['home games in euro qualification'],df_Italyeuroqualifiction['result'],margins=True)\n",
    "x"
   ]
  },
  {
   "cell_type": "code",
   "execution_count": 46,
   "id": "70eb1ec6",
   "metadata": {},
   "outputs": [
    {
     "data": {
      "text/plain": [
       "array([[14,  3, 42, 59],\n",
       "       [14,  3, 42, 59]])"
      ]
     },
     "execution_count": 46,
     "metadata": {},
     "output_type": "execute_result"
    }
   ],
   "source": [
    "x=np.array(x)\n",
    "x"
   ]
  },
  {
   "cell_type": "code",
   "execution_count": 47,
   "id": "5f41c8c9",
   "metadata": {},
   "outputs": [],
   "source": [
    "df_Italywcqualification=df_noneutralItalyhome[df_noneutralItalyhome['tournament']=='FIFA World Cup qualification']"
   ]
  },
  {
   "cell_type": "code",
   "execution_count": 48,
   "id": "435290e9",
   "metadata": {},
   "outputs": [],
   "source": [
    "conditions = [\n",
    "    (df_Italywcqualification['tournament']=='FIFA World Cup qualification') \n",
    "    ]"
   ]
  },
  {
   "cell_type": "code",
   "execution_count": 49,
   "id": "11b19128",
   "metadata": {},
   "outputs": [],
   "source": [
    "values=['FIFA World Cup qualification']"
   ]
  },
  {
   "cell_type": "code",
   "execution_count": 50,
   "id": "b20fda21",
   "metadata": {},
   "outputs": [
    {
     "name": "stderr",
     "output_type": "stream",
     "text": [
      "/var/folders/jz/hk1412pd4bbdhjt78vrlf33r0000gn/T/ipykernel_3263/3167593451.py:1: SettingWithCopyWarning: \n",
      "A value is trying to be set on a copy of a slice from a DataFrame.\n",
      "Try using .loc[row_indexer,col_indexer] = value instead\n",
      "\n",
      "See the caveats in the documentation: https://pandas.pydata.org/pandas-docs/stable/user_guide/indexing.html#returning-a-view-versus-a-copy\n",
      "  df_Italywcqualification['World Cup Games in Italy qualification'] = np.select(conditions, values)\n"
     ]
    }
   ],
   "source": [
    "df_Italywcqualification['World Cup Games in Italy qualification'] = np.select(conditions, values)"
   ]
  },
  {
   "cell_type": "code",
   "execution_count": 51,
   "id": "1688b878",
   "metadata": {},
   "outputs": [
    {
     "data": {
      "text/html": [
       "<div>\n",
       "<style scoped>\n",
       "    .dataframe tbody tr th:only-of-type {\n",
       "        vertical-align: middle;\n",
       "    }\n",
       "\n",
       "    .dataframe tbody tr th {\n",
       "        vertical-align: top;\n",
       "    }\n",
       "\n",
       "    .dataframe thead th {\n",
       "        text-align: right;\n",
       "    }\n",
       "</style>\n",
       "<table border=\"1\" class=\"dataframe\">\n",
       "  <thead>\n",
       "    <tr style=\"text-align: right;\">\n",
       "      <th>result</th>\n",
       "      <th>draw</th>\n",
       "      <th>win</th>\n",
       "      <th>All</th>\n",
       "    </tr>\n",
       "    <tr>\n",
       "      <th>World Cup Games in Italy qualification</th>\n",
       "      <th></th>\n",
       "      <th></th>\n",
       "      <th></th>\n",
       "    </tr>\n",
       "  </thead>\n",
       "  <tbody>\n",
       "    <tr>\n",
       "      <th>FIFA World Cup qualification</th>\n",
       "      <td>11</td>\n",
       "      <td>48</td>\n",
       "      <td>59</td>\n",
       "    </tr>\n",
       "    <tr>\n",
       "      <th>All</th>\n",
       "      <td>11</td>\n",
       "      <td>48</td>\n",
       "      <td>59</td>\n",
       "    </tr>\n",
       "  </tbody>\n",
       "</table>\n",
       "</div>"
      ],
      "text/plain": [
       "result                                  draw  win  All\n",
       "World Cup Games in Italy qualification                \n",
       "FIFA World Cup qualification              11   48   59\n",
       "All                                       11   48   59"
      ]
     },
     "execution_count": 51,
     "metadata": {},
     "output_type": "execute_result"
    }
   ],
   "source": [
    "y=pd.crosstab(df_Italywcqualification['World Cup Games in Italy qualification'],df_Italywcqualification['result'],margins=True)\n",
    "y"
   ]
  },
  {
   "cell_type": "code",
   "execution_count": 52,
   "id": "95a66fe8",
   "metadata": {},
   "outputs": [
    {
     "data": {
      "text/plain": [
       "array([[11, 48, 59],\n",
       "       [11, 48, 59]])"
      ]
     },
     "execution_count": 52,
     "metadata": {},
     "output_type": "execute_result"
    }
   ],
   "source": [
    "y=np.array(y)\n",
    "y"
   ]
  },
  {
   "cell_type": "code",
   "execution_count": 53,
   "id": "29c69c93",
   "metadata": {},
   "outputs": [],
   "source": [
    "df_ItalyFriendly=df_noneutralItalyhome[df_noneutralItalyhome['tournament']=='Friendly']"
   ]
  },
  {
   "cell_type": "code",
   "execution_count": 54,
   "id": "edbbab73",
   "metadata": {},
   "outputs": [],
   "source": [
    "conditions = [\n",
    "    (df_ItalyFriendly['tournament']=='Friendly') \n",
    "    ]\n",
    "values=['Freindly']"
   ]
  },
  {
   "cell_type": "code",
   "execution_count": 55,
   "id": "4ae1e0c3",
   "metadata": {},
   "outputs": [
    {
     "name": "stderr",
     "output_type": "stream",
     "text": [
      "/var/folders/jz/hk1412pd4bbdhjt78vrlf33r0000gn/T/ipykernel_3263/983895876.py:1: SettingWithCopyWarning: \n",
      "A value is trying to be set on a copy of a slice from a DataFrame.\n",
      "Try using .loc[row_indexer,col_indexer] = value instead\n",
      "\n",
      "See the caveats in the documentation: https://pandas.pydata.org/pandas-docs/stable/user_guide/indexing.html#returning-a-view-versus-a-copy\n",
      "  df_ItalyFriendly['Friendly'] = np.select(conditions, values)\n"
     ]
    }
   ],
   "source": [
    "df_ItalyFriendly['Friendly'] = np.select(conditions, values)"
   ]
  },
  {
   "cell_type": "code",
   "execution_count": 56,
   "id": "0e7c8781",
   "metadata": {},
   "outputs": [
    {
     "data": {
      "text/html": [
       "<div>\n",
       "<style scoped>\n",
       "    .dataframe tbody tr th:only-of-type {\n",
       "        vertical-align: middle;\n",
       "    }\n",
       "\n",
       "    .dataframe tbody tr th {\n",
       "        vertical-align: top;\n",
       "    }\n",
       "\n",
       "    .dataframe thead th {\n",
       "        text-align: right;\n",
       "    }\n",
       "</style>\n",
       "<table border=\"1\" class=\"dataframe\">\n",
       "  <thead>\n",
       "    <tr style=\"text-align: right;\">\n",
       "      <th>result</th>\n",
       "      <th>draw</th>\n",
       "      <th>lose</th>\n",
       "      <th>win</th>\n",
       "      <th>All</th>\n",
       "    </tr>\n",
       "    <tr>\n",
       "      <th>Friendly</th>\n",
       "      <th></th>\n",
       "      <th></th>\n",
       "      <th></th>\n",
       "      <th></th>\n",
       "    </tr>\n",
       "  </thead>\n",
       "  <tbody>\n",
       "    <tr>\n",
       "      <th>Freindly</th>\n",
       "      <td>54</td>\n",
       "      <td>25</td>\n",
       "      <td>133</td>\n",
       "      <td>212</td>\n",
       "    </tr>\n",
       "    <tr>\n",
       "      <th>All</th>\n",
       "      <td>54</td>\n",
       "      <td>25</td>\n",
       "      <td>133</td>\n",
       "      <td>212</td>\n",
       "    </tr>\n",
       "  </tbody>\n",
       "</table>\n",
       "</div>"
      ],
      "text/plain": [
       "result    draw  lose  win  All\n",
       "Friendly                      \n",
       "Freindly    54    25  133  212\n",
       "All         54    25  133  212"
      ]
     },
     "execution_count": 56,
     "metadata": {},
     "output_type": "execute_result"
    }
   ],
   "source": [
    "z=pd.crosstab(df_ItalyFriendly['Friendly'],df_ItalyFriendly['result'],margins=True)\n",
    "z"
   ]
  },
  {
   "cell_type": "code",
   "execution_count": 57,
   "id": "258f929b",
   "metadata": {},
   "outputs": [
    {
     "data": {
      "text/plain": [
       "array([[ 54,  25, 133, 212],\n",
       "       [ 54,  25, 133, 212]])"
      ]
     },
     "execution_count": 57,
     "metadata": {},
     "output_type": "execute_result"
    }
   ],
   "source": [
    "z=np.array(z)\n",
    "z"
   ]
  },
  {
   "cell_type": "code",
   "execution_count": 58,
   "id": "5de3a13c",
   "metadata": {},
   "outputs": [
    {
     "data": {
      "text/plain": [
       "(0.5963013078194117, 0.8274275057399103)"
      ]
     },
     "execution_count": 58,
     "metadata": {},
     "output_type": "execute_result"
    }
   ],
   "source": [
    "CI_Italyeuroqual=proportion_confint(count=x[0,2],nobs=x[0,3],alpha=(1-.95))\n",
    "CI_Italyeuroqual"
   ]
  },
  {
   "cell_type": "code",
   "execution_count": 59,
   "id": "7ebedf2b",
   "metadata": {},
   "outputs": [
    {
     "data": {
      "text/plain": [
       "(0.7141820582614025, 0.9129365858063943)"
      ]
     },
     "execution_count": 59,
     "metadata": {},
     "output_type": "execute_result"
    }
   ],
   "source": [
    "CI_spainwcqual=proportion_confint(count=y[0,1],nobs=y[0,2],alpha=(1-.95))\n",
    "CI_spainwcqual"
   ]
  },
  {
   "cell_type": "code",
   "execution_count": 60,
   "id": "d38df650",
   "metadata": {},
   "outputs": [
    {
     "data": {
      "text/plain": [
       "(0.5622730774546754, 0.6924439036774002)"
      ]
     },
     "execution_count": 60,
     "metadata": {},
     "output_type": "execute_result"
    }
   ],
   "source": [
    "  CI_spainfreindly=proportion_confint(count=z[0,2],nobs=z[0,3],alpha=(1-.95))\n",
    "CI_spainfreindly"
   ]
  },
  {
   "cell_type": "code",
   "execution_count": 61,
   "id": "acb2a6a8",
   "metadata": {},
   "outputs": [
    {
     "data": {
      "text/html": [
       "<div>\n",
       "<style scoped>\n",
       "    .dataframe tbody tr th:only-of-type {\n",
       "        vertical-align: middle;\n",
       "    }\n",
       "\n",
       "    .dataframe tbody tr th {\n",
       "        vertical-align: top;\n",
       "    }\n",
       "\n",
       "    .dataframe thead th {\n",
       "        text-align: right;\n",
       "    }\n",
       "</style>\n",
       "<table border=\"1\" class=\"dataframe\">\n",
       "  <thead>\n",
       "    <tr style=\"text-align: right;\">\n",
       "      <th></th>\n",
       "      <th>euro qual or wc Qual or freindly</th>\n",
       "      <th>lb</th>\n",
       "      <th>ub</th>\n",
       "    </tr>\n",
       "  </thead>\n",
       "  <tbody>\n",
       "    <tr>\n",
       "      <th>0</th>\n",
       "      <td>euro qual</td>\n",
       "      <td>0.747159</td>\n",
       "      <td>0.930260</td>\n",
       "    </tr>\n",
       "    <tr>\n",
       "      <th>1</th>\n",
       "      <td>wc qual</td>\n",
       "      <td>0.714182</td>\n",
       "      <td>0.912937</td>\n",
       "    </tr>\n",
       "    <tr>\n",
       "      <th>2</th>\n",
       "      <td>freindly</td>\n",
       "      <td>0.562273</td>\n",
       "      <td>0.692444</td>\n",
       "    </tr>\n",
       "  </tbody>\n",
       "</table>\n",
       "</div>"
      ],
      "text/plain": [
       "  euro qual or wc Qual or freindly        lb        ub\n",
       "0                        euro qual  0.747159  0.930260\n",
       "1                          wc qual  0.714182  0.912937\n",
       "2                         freindly  0.562273  0.692444"
      ]
     },
     "execution_count": 61,
     "metadata": {},
     "output_type": "execute_result"
    }
   ],
   "source": [
    "ci_spain= {}\n",
    "ci_spain['euro qual or wc Qual or freindly' ] = ['euro qual','wc qual', 'freindly']\n",
    "ci_spain['lb'] = [CI_spaineuroqual[0],CI_spainwcqual[0],CI_spainfreindly[0]]\n",
    "ci_spain['ub'] = [CI_spaineuroqual[1],CI_spainwcqual[1],CI_spainfreindly[1]]\n",
    "df_ci= pd.DataFrame(ci_spain)\n",
    "df_ci"
   ]
  },
  {
   "cell_type": "code",
   "execution_count": 62,
   "id": "7b126ffc",
   "metadata": {},
   "outputs": [
    {
     "data": {
      "text/plain": [
       "([<matplotlib.axis.YTick at 0x7f901546ae50>,\n",
       "  <matplotlib.axis.YTick at 0x7f901546a6d0>,\n",
       "  <matplotlib.axis.YTick at 0x7f9015322610>],\n",
       " [Text(0, 0, 'euro qual'), Text(0, 1, 'wc qual'), Text(0, 2, 'freindly')])"
      ]
     },
     "execution_count": 62,
     "metadata": {},
     "output_type": "execute_result"
    },
    {
     "data": {
      "image/png": "[encoded data removed]",
      "text/plain": [
       "<Figure size 432x288 with 1 Axes>"
      ]
     },
     "metadata": {
      "needs_background": "light"
     },
     "output_type": "display_data"
    }
   ],
   "source": [
    "import matplotlib.pyplot as plt\n",
    "for lb,ub,y in zip(df_ci['lb'],df_ci['ub'],range(len(df_ci))):\n",
    "    plt.plot((lb,ub),(y,y),'ro-')\n",
    "plt.yticks(range(len(df_ci)),list(df_ci['euro qual or wc Qual or freindly']))"
   ]
  },
  {
   "cell_type": "code",
   "execution_count": null,
   "id": "a32eec6d",
   "metadata": {},
   "outputs": [],
   "source": []
  },
  {
   "cell_type": "code",
   "execution_count": null,
   "id": "ce604036",
   "metadata": {},
   "outputs": [],
   "source": []
  },
  {
   "cell_type": "code",
   "execution_count": null,
   "id": "d33e06ef",
   "metadata": {},
   "outputs": [],
   "source": []
  }
 ],
 "metadata": {
  "kernelspec": {
   "display_name": "Python 3 (ipykernel)",
   "language": "python",
   "name": "python3"
  },
  "language_info": {
   "codemirror_mode": {
    "name": "ipython",
    "version": 3
   },
   "file_extension": ".py",
   "mimetype": "text/x-python",
   "name": "python",
   "nbconvert_exporter": "python",
   "pygments_lexer": "ipython3",
   "version": "3.9.7"
  }
 },
 "nbformat": 4,
 "nbformat_minor": 5
}
